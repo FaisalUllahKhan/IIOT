{
  "nbformat": 4,
  "nbformat_minor": 0,
  "metadata": {
    "kernelspec": {
      "display_name": "Python 3",
      "language": "python",
      "name": "python3"
    },
    "language_info": {
      "codemirror_mode": {
        "name": "ipython",
        "version": 3
      },
      "file_extension": ".py",
      "mimetype": "text/x-python",
      "name": "python",
      "nbconvert_exporter": "python",
      "pygments_lexer": "ipython3",
      "version": "3.7.4"
    },
    "colab": {
      "name": "Education Module 3.ipynb",
      "provenance": [],
      "collapsed_sections": [],
      "include_colab_link": true
    }
  },
  "cells": [
    {
      "cell_type": "markdown",
      "metadata": {
        "id": "view-in-github",
        "colab_type": "text"
      },
      "source": [
        "<a href=\"https://colab.research.google.com/github/FaisalUllahKhan/IIOT/blob/master/Education_Module_3.ipynb\" target=\"_parent\"><img src=\"https://colab.research.google.com/assets/colab-badge.svg\" alt=\"Open In Colab\"/></a>"
      ]
    },
    {
      "cell_type": "markdown",
      "metadata": {
        "id": "e4b2meI2LQgs",
        "colab_type": "text"
      },
      "source": [
        "# 1. Networking for IIOT\n",
        "\n",
        "### Contents:\n",
        "- [Overview](#Overview)\n",
        "  - [In a nutshell](#In-a-nutshell)\n",
        "- [IIOT End Devices](#IIOT-End-Devices)\n",
        "    - [Introduction to some protocols](#Introduction-to-some-protocols)\n",
        "    - [Sensors](#Sensors)\n",
        "- [IIOT Gateways](#IIOT-Gateways)\n",
        "    - [Services running on Raspberry](#Services-running-on-Raspberry)\n",
        "    - [Setting up the pi](#Setting-up-the-Pi)\n",
        "        - [OS](#OS)\n",
        "        - [Username and password](#Username-and-password)\n",
        "        - [Mosquitto broker](#Mosquitto-broker)\n",
        "        - [Setting up Internet Connectivity](#Setting-up-Internet-Connectivity)\n",
        "- [IIOT Middleware](#IIOT-Middleware)\n",
        "    - [Setting up Elasticsearch](#Setting-up-Elasticsearch)\n",
        "    - [HTTP get and post functionalities](#HTTP-get-and-post-functionalities)\n",
        "    - [Setting up Kibana](#Setting-up-Kibana)\n",
        "    - [Kibana Aggregations](#Kibana-Aggregations)"
      ]
    },
    {
      "cell_type": "markdown",
      "metadata": {
        "id": "GzaNj-XjLQg2",
        "colab_type": "text"
      },
      "source": [
        "## Overview\n",
        "***\n",
        "### In a nutshell\n",
        "***\n",
        "We have given a general structure of the IIOT network implementation in this section. We would like to layout the resources, methadology and the step by step instructions that would give you an overview of what we will be doing in this module. Also you might come across terms that you might not have heard or you may not be having the working knowledge of those things, either way, as this module progresses you will get acquainted with all of the terms as we have given a decent description of the topics and explained in a stepwise manner.\n",
        "\n",
        "**Resources:**\n",
        "1. Raspberry pi zero W\n",
        "2. Sensors (vibration, proximity, energy meter, temperature sensor)\n",
        "3. If sensors are not available we can use a [fakesensor](https://github.com/FaisalUllahKhan/IIOT/blob/master/fakesensor.py)\n",
        "4. For illustration purposes we have provided a sample code too, that generates a sine wave.\n",
        "5. A laptop or a pc to work as a server.\n",
        "\n",
        "We can use only the local machine if the server is not avaliable.\n",
        "\n",
        "Once we have all these resources we can get started with our setup. We have to connect the various sensors to the machines. The raspberry pis need to be configured and we need to install Raspbian OS on them. We will be using the mosquitto MQTT broker to transmit data. Then on the server we need to install elasticsearch and kibana and make them avaliable remotely. If we are only using a local machine then kibana and elasticsearch will be installed on the local machine and the analysis will have to be done on the local machine itself. The limitation of this setup is that in this setup everything will have to be connected locally.\n",
        "Then from our local machine we can see the data on the server being published by the sensors via the Pi's. Using kibana we can visualize the data. Then we can collect the data acquired and make it into a csv file on which we can run algorithms for various analysis like state detections, energy consumptions, average working time of individual machines, anomaly detections etc.\n",
        "***\n",
        "In this section we will give a brief overview of the functional layers in IIOT network implementation.\n",
        "***\n",
        "### Functional Layers in IIOT Network implementation\n",
        "***\n",
        "> 1. IIOT End Devices - IED\n",
        "> 2. IIOT Gateways - IGW\n",
        "> 3. IIOT Middleware - IMW\n",
        "> 4. IIOT Cloud Server - ICS\n",
        "\n",
        "#### IIOT END DEVICES(IED)\n",
        "***\n",
        "- The IoT end-devices or IEDs contain the sensors (or actuators) and are closest to the end node being monitored. They gather data periodically by reading the sensors attached to them and relay them to the IOT Gateway over a suitable protocol/channel like MODBUS, BLE, or directly over the GPIO pins depending on the type of sensor\n",
        "- Different type of sensors connect differently to the Gateways, like we can connect:\n",
        "    - Vibration sensor over Bluetooth(BLE)\n",
        "    - Energy Meter over MODBUS\n",
        "    - Proximity Sensor over GPIOS of RpiZ\n",
        "    - Thermocouple Temperature Sensor over I2C\n",
        "    \n",
        "#### IIOT GATEWAYS(IGW)\n",
        "***\n",
        "- The gateways are devices which are next up in the hierarchy of the network.\n",
        "- The gateways provide the following services:\n",
        "    1. **Reliable Connectivity:** between the IIOT Server and the IIOT End Devices. The IGW may buffer the incoming data from various IEDs incase the upstream connection to the IMW is broken and try to push the data once the IMW is reachable again.\n",
        "    2. **Protocol and data bridge:** makes possible the interoperation of IEDs using different protocols and data formats - i.e. a Sensor might be sending reading of LDR analog values using plain text over UART Serial and the IGW can translate the same to a JSON message which might be then sent to the IMW. Similarly an Energy meter might be using a protocol like MODBUS to convey the sensor readings and the IGW will translate the MODBUS formatted datapacket into a JSON message to be sent to the IMW. Similarly JSON commands sent to IEDs containing actuators may be converted to the proper data format and protocol by the IGW before forwarded to the IED.\n",
        "    3. **Management:** The gateway can automatically detect and add new IEDs added to the network or remove faulty IEDs from the network intelligently. In this way the IEDs can be managed via the IGW.\n",
        "    4. **Storage and Analysis:** In certain cases, the IGW can itself act as a data store and can also perform lightweight analysis on the incomming data and push only the very relevant information to the IMW and filtering out the rest. Also the IGW can take certain actions like commanding an actuator based on the analysis of the incoming sensor data and hence the closed loop time to take critical actions can be reduced.\n",
        " \n",
        "#### IIOT MIDDLEWARE(IMW)\n",
        "***\n",
        "- Next up in the network is the IIOT Middleware which provides the following services in general (which may vary slightly between implementations:\n",
        "    - **Persistent data storage**\n",
        "    - **Analysis on the data**\n",
        "    \n",
        "####  IIOT Cloud Server (ICS)\n",
        "- The final layer in the network is the cloud server.\n",
        "- This server has a public IPv4 and/or IPv6 address and is reachable from anywhere on the internet.\n",
        "- The cloud server can be used for -\n",
        "    - permanent data store\n",
        "    - online/offline analysis\n",
        "    - realtime visualisation of the raw/processed data\n",
        "    - VPN access to the Middleware and the local network in the remote factory floor\n",
        "\n",
        "#### OVERVIEW DIAGRAM\n",
        "***\n",
        "![IOTGW-OVERVIEW.png](https://raw.githubusercontent.com/FaisalUllahKhan/IIOT/master/EM%20images/Overview%20Image%202%20.png)\n",
        "***"
      ]
    },
    {
      "cell_type": "markdown",
      "metadata": {
        "id": "aTD2BdJ8LQg6",
        "colab_type": "text"
      },
      "source": [
        "## IIOT End Devices\n",
        "***\n",
        "This section provides a very basic introduction to the protocols that we use to communicate between the sensor and the IGW. It also mentions some of the commonly used sensors. \n",
        "***\n",
        "![IOTGW-OVERVIEW-HIGHLIGHT-IED.png](https://raw.githubusercontent.com/FaisalUllahKhan/IIOT/master/EM%20images/IOTGW-OVERVIEW-HIGHLIGHT-IED.png)\n",
        "\n",
        "- The end devices are those devices that take data from the machines directly or indirectly and send that data via a network to a centralized server, to make evaluations and optimizations based on that data.\n",
        "- The sensors are the end devices in our implementations\n",
        "- As already mentioned in the overview we can use different methods for interacting the sensors with the IGW like:\n",
        "    - Vibration sensor over BLE\n",
        "    - Energy Meter over MODBUS\n",
        "    - Proximity sensor over GPIOs of RPiZ\n",
        "    - Thermocouple Temperature Sensor over I2C\n",
        "\n",
        "### Introduction to some protocols\n",
        "***\n",
        "**Bluetooth Low Energy(BLE)**\n",
        "- Not actually a protocol\n",
        "- is a wireless personal area network technology\n",
        "- Compared to Classic Bluetooth, Bluetooth Low Energy is intended to provide considerably reduced power consumption and cost while maintaining a similar communication range. \n",
        "- Bluetooth Low Energy uses the same 2.4 GHz radio frequencies as classic Bluetooth.\n",
        "- It offers very low power consumption and hence battery life can be very long. \n",
        "- It can not be used for higher data rates as offered by wifi and cellular technologies.\n",
        "- It can be used to connect upto 10 devices simultaneously.\n",
        "- For more details [click here](https://en.wikipedia.org/wiki/Bluetooth_Low_Energy)\n",
        "\n",
        "**MODBUS**\n",
        "- Modbus is a communication protocol developed by Modicon systems. In simple terms, it is a method used for transmitting information over serial lines between electronic devices. The device requesting the information is called the Modbus Master and the devices supplying information are Modbus Slaves\n",
        "- For more details [click here](https://en.wikipedia.org/wiki/Modbus)\n",
        "\n",
        "**I2C**\n",
        "- I2C is a serial communication protocol, so data is transferred bit by bit along a single wire (the SDA line). Like SPI, I2C is synchronous, so the output of bits is synchronized to the sampling of bits by a clock signal shared between the master and the slave. The clock signal is always controlled by the master.\n",
        "- For more details [click here](http://www.circuitbasics.com/basics-of-the-i2c-communication-protocol/)\n",
        "\n",
        "### Sensors\n",
        "***\n",
        "\n",
        "**Vibration Sensor**\n",
        "\n",
        "- As mentioned above we usually connect the vibration sensor to our IGW ie RPiZ using BLE\n",
        "- The vibration sensor is also called a piezoelectric sensor. These sensors are flexible devices which are used for measuring various processes. This sensor uses the piezoelectric effects while measuring the changes within acceleration, pressure, temperature, force otherwise strain by changing to an electrical charge. \n",
        "![Vibration%20Sensor.jpg](https://raw.githubusercontent.com/FaisalUllahKhan/IIOT/master/EM%20images/Vibration%20Sensor.jpg)\n",
        "\n",
        "**Proximity Sensor**\n",
        "\n",
        "- A proximity sensor is a sensor able to detect the presence of nearby objects without any physical contact. A proximity sensor often emits an electromagnetic field or a beam of electromagnetic radiation (infrared, for instance), and looks for changes in the field or return signal.\n",
        "![Proximity%20sensor.jpg](https://raw.githubusercontent.com/FaisalUllahKhan/IIOT/master/EM%20images/Proximity%20sensor.jpg)\n",
        "\n",
        "**Energy Meter**\n",
        "\n",
        "- Energy Meter Definition: The meter which is used for measuring the energy utilises by the electric load is known as the energy meter. The energy is the total power consumed and utilised by the load at a particular interval of time. It is used in domestic and industrial AC circuit for measuring the power consumption.\n",
        "![Energy%20Meter1.png](https://raw.githubusercontent.com/FaisalUllahKhan/IIOT/master/EM%20images/Energy%20Meter1.png)\n",
        "\n",
        "**Temperature Sensor**\n",
        "\n",
        "- Temperature sensor is a device, to measure the temperature through an electrical signal it requires a thermocouple or RTD (Resistance Temperature Detectors). The thermocouple is prepared by two dissimilar metals which generate the electrical voltage indirectly proportional to change the temperature. The RTD is a VARIABLE RESISTENCE , it will change the electrical resistance indirectly proportional to changes in the temperature in a precise, and nearly linear manner.\n",
        "\n",
        "![Temp%20Sensor.jpg](https://raw.githubusercontent.com/FaisalUllahKhan/IIOT/master/EM%20images/Temp%20Sensor.jpg)\n",
        "\n",
        "***"
      ]
    },
    {
      "cell_type": "markdown",
      "metadata": {
        "id": "crFy00KTLQg-",
        "colab_type": "text"
      },
      "source": [
        "## IIOT Gateways\n",
        "***\n",
        "In this section we will be explaining how we are going to set up the Raspberry pi and what are the services that we will be using on the pi. We will guide you through the setting up of the pi, which will include the OS installation, changing the username and the password, setting up the mosquitto service on the pi and then finally we will provide a publishing MQTT python script that we will run on the pi. There are some exercies for the reader to get a better understanding of the protocol being used.\n",
        "***\n",
        "![IOTGW-OVERVIEW-HIGHLIGHT-GW.png](https://raw.githubusercontent.com/FaisalUllahKhan/IIOT/master/EM%20images/IOTGW-OVERVIEW-HIGHLIGHT-GW.png)\n",
        "***\n",
        "- The IIOT gateway in our implementation is a Raspberry Pi-zero-W which is a small Single Board Computer (SBC).\n",
        "- The RPiZw runs a Debian OS(Raspbian) which is similar to the Ubuntu/Linux OS we use in our desktop.\n",
        "- Many softwares are run on the RPiZw which enable the RPiZw to provide the necessary services needed to be present on a IIOT Gateway.\n",
        "- To read more about the pi [click here](https://www.raspberrypi.org/documentation/)\n",
        "\n",
        "### Services running on Raspberry\n",
        "***\n",
        "1. IIOT End Device Driver (IED Driver)\n",
        "2. Mosquitto MQTT Broker\n",
        "3. MQTT to IIOT Middleware Publish Service.\n",
        "\n",
        "**The diagram below shows the microservices running on the Raspberry Pi**\n",
        "***\n",
        "![IOTGW-DETAILS.jpg](https://raw.githubusercontent.com/FaisalUllahKhan/IIOT/master/EM%20images/IOTGW-DETAILS.jpg)\n",
        "\n",
        "### Setting up the Pi\n",
        "***\n",
        "### OS\n",
        "***\n",
        "- We need to install the Raspbian OS or NOOBS on the pi which is very similar to the Linux distributions\n",
        "- For our purposes we will use the Raspbian OS\n",
        "- You can download it from [here](https://www.raspberrypi.org/downloads/raspbian/)\n",
        "***\n",
        "![Raspbian.png](https://raw.githubusercontent.com/FaisalUllahKhan/IIOT/master/EM%20images/Raspbian.png)\n",
        "***\n",
        "- After the ISO image has been downloaded on our Pc we need to burn the image on a memory card(16GB) to be used in the Pi\n",
        "- You can use [Win32 disk imager](https://sourceforge.net/projects/win32diskimager/) to burn the image if you are on a windows machine.\n",
        "- Or you can use balenaEtcher [balenaEtcher](https://www.balena.io/etcher/) which comes for linux, windows as well as for Mac OS.\n",
        "- After you have downloaded this software run the software and we will see a select image option, after selecting the image we need to select our SD card on which we have to flash this image. If you have inserted the SD card beforehand then it will automatically detect the SD card. We just have to click flash and it's done. Simple!\n",
        "- We can also include the drivers on the image before burning it to an SD card, so that our end devices can interact with our Pi\n",
        "***\n",
        "### Username and password\n",
        "***\n",
        "- By default the username of the pi is 'pi' and the password is 'raspberry'.\n",
        "- So the first thing we might want to do is to change these defaults for security reasons.\n",
        "- After connecting our pi to a monitor and other peripherals we can easily change the username and password and also create additional users if necessary.\n",
        "\n",
        "- In order to change the username 'pi' we will have to log in a the root user since it's not possible to rename an account while your logged into it. To log in as root user first we have to enable it, to do so type the following command whilst logged in as the default pi user:\n",
        "\n",
        ">``` sudo passwd root```\n",
        "\n",
        "- Choose a secure password for the root user. You can disable the root account later if you wish.\n",
        "\n",
        "- Now logout of the user pi using the command:\n",
        "\n",
        "> `logout`\n",
        "\n",
        "- And then logout back in as the user 'root' using the password you just created. Now we can rename the the default pi user name. The following method renames the user 'pi' to 'newname', replace this with whatever you want. Type the command:\n",
        "\n",
        "> `usermod -l newname pi`\n",
        "\n",
        "- Now the user name has been changed the user's home directory name should also be changed to \n",
        "reflect the new login name:\n",
        "\n",
        "> `usermod -m -d /home/newname newname`\n",
        "\n",
        "- Now logout and login back in as newname. You can change the default password from raspberry to something more secure by typing following command and entering a new password when prompted:\n",
        "\n",
        "> `passwd`\n",
        "\n",
        "- If you wish you can disable the root user account again but first double check newname still has 'sudo' privileges. Check the following update command works:\n",
        "\n",
        "> `sudo apt-get update`\n",
        "\n",
        "- If it works then you can disable the root account by locking the password:\n",
        "\n",
        "> `sudo passwd -l root`\n",
        "***\n",
        "### Mosquitto broker\n",
        "***\n",
        "![IOTGW-DETAILS-HIGHLIGHT-MQTTBROKER.png](https://raw.githubusercontent.com/FaisalUllahKhan/IIOT/master/EM%20images/IOTGW-DETAILS-HIGHLIGHT-MQTTBROKER.png)\n",
        "***\n",
        "- To **download** and setup the mosquitto mqtt broker visit the following link: [Mosquitto Broker](https://mosquitto.org/download/)\n",
        "- Follow the instructions specific to your OS(Raspbian here since we are going to install it on the Pi ie the IGW)\n",
        "- After installation to start the mosquitto service type: <font color = red>sudo service mosquitto start</font>\n",
        "- For illustration you may use the terminal to subscribe to a topic and see the sensor data being published to that topic(python/sin6) in this case\n",
        "- We later on will use python code to publish the sensor data to the MQTT topic\n",
        "- Another Python code subscribes to the topic and then pushes the data to the Database.\n",
        "- Before we dive into how the python code is used to publish and subscribe data to a topic, to get a better understanding of the MQTT protocol it might be a good idea to see the whole thing in action in the command line first. If you think you have sufficient knowledge to go forward then you may skip this portion here, and directly go to the python code.\n",
        "- I would recommend the readers to go through paho library that we will be using for publishing and subscribing in the python code.\n",
        "***\n",
        "#### MQTT in command line \n",
        "***\n",
        "Now after the installation has been done there are a few more steps we have to do before we can use the MQTT protocol in our cmd.\n",
        "In windows we need to go to services (navigate there using windows search). We should get mosquitto broker there and change its settings from automatic to start and then reboot if necessary.\n",
        "Add Mosquitto installation path in PATH, environment variable, so that we can access it directly from command prompt.\n",
        "Reboot the pc. Now we will Publish and Subscribe from localhost using cmd.\n",
        "Now open two cmd windows, we will make one of them a subscriber and the other a publisher.\n",
        "Type the following to subscribe:\n",
        "> `*mosquitto_sub -h \"localhost\" -t \"topic/#\"*`\n",
        "\n",
        "-h is for specifying hostname<br>\n",
        "-t is for specifying the subscription topic which's \"topic\" here<br>\n",
        "Now we will make the other cmd to publish to the topic \"topic\"<br>\n",
        "Type the following to publish:<br>\n",
        "> `mosquitto_pub -h \"localhost\" -m \"Type your message here\" -t \"topic/\"`\n",
        "\n",
        "-h is for specifying the hostname, it should obviously be the same for both subscriber as well as the publisher.<br>\n",
        "-t is for specifying the topic.<br>\n",
        "-m is for writing our messages.<br>\n",
        "Now another thing to notice here is that we can have multiple publishers and multiple subscribers publishing and subscribing to the same topics.<br>\n",
        "We can also have a publisher publishing to multiple topics simultaneously.\n",
        "\n",
        "- **Publishing and Subscribing to remote brokers:**\n",
        "In the above example we used the local host for both publishing and subscribing to the topic. This portion will illustrate how we can achieve that remotely.<br>\n",
        "We are going to use our local machine to publish to a topic using the mqtt cloud service and then on the raspberry pi we will subscribe to that topic. It's obvious that we can't use local host here as we are using different machines for publishing and subscribing.\n",
        "Go to the [cloud MQTT](https://www.cloudmqtt.com/plans.html) select cute cat(free) and then create a new instance. After a new instance has been created then we will get some info on the page that we will have to note and provide on both the machines for them to transmit and recieve messages.<br>\n",
        "Note the servername, username, port and the password.<br>\n",
        "Then open the terminal/cmd on raspberry pi and type the following to subscribe to the topic\n",
        "> `mosquitto_sub -h \"hostname\" -p \"portNumber\" -u \"Username\" -P \"password\" -t \"topic/#\"`\n",
        "\n",
        "Then on the local machine we need to type the following code to publish to the topic:\n",
        "> `mosquitto_pub -h \"hostname\" -p \"portNumber\" -u \"Username\" -P \"password\" -m \"Type your message here\" -t \"topic/\"`\n",
        "\n",
        "Note: Free cloud MQTT has speed limitations and can't recieve data quickly.\n",
        "***\n",
        "- A **sample python code** to illustrate the publishing of data to an MQTT topic is as follows:\n",
        "It should be noted that this code is to be run on the pi itself."
      ]
    },
    {
      "cell_type": "code",
      "metadata": {
        "id": "ZV8gU7oLLQhD",
        "colab_type": "code",
        "colab": {}
      },
      "source": [
        "import paho.mqtt.client as mqttClient\n",
        "import datetime\n",
        "import time\n",
        "import numpy as np"
      ],
      "execution_count": 0,
      "outputs": []
    },
    {
      "cell_type": "code",
      "metadata": {
        "id": "u8h0gGLx_sJ9",
        "colab_type": "code",
        "colab": {}
      },
      "source": [
        "def on_connect(client, userdata, flags, rc):\n",
        " \n",
        "    if rc == 0:\n",
        " \n",
        "        print(\"Connected to broker\")\n",
        " \n",
        "        global Connected                #Use global variable\n",
        "        Connected = True                #Signal connection \n",
        " \n",
        "    else:\n",
        " \n",
        "        print(\"Connection failed\")\n",
        "    \n",
        "Connected = False"
      ],
      "execution_count": 0,
      "outputs": []
    },
    {
      "cell_type": "code",
      "metadata": {
        "id": "Ju2iM9VHLkLC",
        "colab_type": "code",
        "colab": {
          "base_uri": "https://localhost:8080/",
          "height": 376
        },
        "outputId": "7ae33c0f-f6cb-44de-ba7d-28a1435b3001"
      },
      "source": [
        "client = mqttClient.Client()                       #create new instance\n",
        "# client.username_pw_set(user, password=password)  #set username and password\n",
        "client.on_connect= on_connect                      #attach function to callback\n",
        "client.connect(\"localhost\", port=1883)             #connect to broker\n",
        "client.loop_start()                                #start the loop\n"
      ],
      "execution_count": 16,
      "outputs": [
        {
          "output_type": "error",
          "ename": "OSError",
          "evalue": "ignored",
          "traceback": [
            "\u001b[0;31m---------------------------------------------------------------------------\u001b[0m",
            "\u001b[0;31mOSError\u001b[0m                                   Traceback (most recent call last)",
            "\u001b[0;32m<ipython-input-16-731f5c60e485>\u001b[0m in \u001b[0;36m<module>\u001b[0;34m()\u001b[0m\n\u001b[1;32m      2\u001b[0m \u001b[0;31m# client.username_pw_set(user, password=password)  #set username and password\u001b[0m\u001b[0;34m\u001b[0m\u001b[0;34m\u001b[0m\u001b[0;34m\u001b[0m\u001b[0m\n\u001b[1;32m      3\u001b[0m \u001b[0mclient\u001b[0m\u001b[0;34m.\u001b[0m\u001b[0mon_connect\u001b[0m\u001b[0;34m=\u001b[0m \u001b[0mon_connect\u001b[0m                      \u001b[0;31m#attach function to callback\u001b[0m\u001b[0;34m\u001b[0m\u001b[0;34m\u001b[0m\u001b[0m\n\u001b[0;32m----> 4\u001b[0;31m \u001b[0mclient\u001b[0m\u001b[0;34m.\u001b[0m\u001b[0mconnect\u001b[0m\u001b[0;34m(\u001b[0m\u001b[0;34m\"localhost\"\u001b[0m\u001b[0;34m,\u001b[0m \u001b[0mport\u001b[0m\u001b[0;34m=\u001b[0m\u001b[0;36m1883\u001b[0m\u001b[0;34m)\u001b[0m             \u001b[0;31m#connect to broker\u001b[0m\u001b[0;34m\u001b[0m\u001b[0;34m\u001b[0m\u001b[0m\n\u001b[0m\u001b[1;32m      5\u001b[0m \u001b[0mclient\u001b[0m\u001b[0;34m.\u001b[0m\u001b[0mloop_start\u001b[0m\u001b[0;34m(\u001b[0m\u001b[0;34m)\u001b[0m                                \u001b[0;31m#start the loop\u001b[0m\u001b[0;34m\u001b[0m\u001b[0;34m\u001b[0m\u001b[0m\n",
            "\u001b[0;32m/usr/local/lib/python3.6/dist-packages/paho/mqtt/client.py\u001b[0m in \u001b[0;36mconnect\u001b[0;34m(self, host, port, keepalive, bind_address, bind_port, clean_start, properties)\u001b[0m\n\u001b[1;32m    935\u001b[0m         self.connect_async(host, port, keepalive,\n\u001b[1;32m    936\u001b[0m                            bind_address, bind_port, clean_start, properties)\n\u001b[0;32m--> 937\u001b[0;31m         \u001b[0;32mreturn\u001b[0m \u001b[0mself\u001b[0m\u001b[0;34m.\u001b[0m\u001b[0mreconnect\u001b[0m\u001b[0;34m(\u001b[0m\u001b[0;34m)\u001b[0m\u001b[0;34m\u001b[0m\u001b[0;34m\u001b[0m\u001b[0m\n\u001b[0m\u001b[1;32m    938\u001b[0m \u001b[0;34m\u001b[0m\u001b[0m\n\u001b[1;32m    939\u001b[0m     def connect_srv(self, domain=None, keepalive=60, bind_address=\"\",\n",
            "\u001b[0;32m/usr/local/lib/python3.6/dist-packages/paho/mqtt/client.py\u001b[0m in \u001b[0;36mreconnect\u001b[0;34m(self)\u001b[0m\n\u001b[1;32m   1069\u001b[0m         \u001b[0mself\u001b[0m\u001b[0;34m.\u001b[0m\u001b[0m_messages_reconnect_reset\u001b[0m\u001b[0;34m(\u001b[0m\u001b[0;34m)\u001b[0m\u001b[0;34m\u001b[0m\u001b[0;34m\u001b[0m\u001b[0m\n\u001b[1;32m   1070\u001b[0m \u001b[0;34m\u001b[0m\u001b[0m\n\u001b[0;32m-> 1071\u001b[0;31m         \u001b[0msock\u001b[0m \u001b[0;34m=\u001b[0m \u001b[0mself\u001b[0m\u001b[0;34m.\u001b[0m\u001b[0m_create_socket_connection\u001b[0m\u001b[0;34m(\u001b[0m\u001b[0;34m)\u001b[0m\u001b[0;34m\u001b[0m\u001b[0;34m\u001b[0m\u001b[0m\n\u001b[0m\u001b[1;32m   1072\u001b[0m \u001b[0;34m\u001b[0m\u001b[0m\n\u001b[1;32m   1073\u001b[0m         \u001b[0;32mif\u001b[0m \u001b[0mself\u001b[0m\u001b[0;34m.\u001b[0m\u001b[0m_ssl\u001b[0m\u001b[0;34m:\u001b[0m\u001b[0;34m\u001b[0m\u001b[0;34m\u001b[0m\u001b[0m\n",
            "\u001b[0;32m/usr/local/lib/python3.6/dist-packages/paho/mqtt/client.py\u001b[0m in \u001b[0;36m_create_socket_connection\u001b[0;34m(self)\u001b[0m\n\u001b[1;32m   3520\u001b[0m             \u001b[0;32mreturn\u001b[0m \u001b[0msocks\u001b[0m\u001b[0;34m.\u001b[0m\u001b[0mcreate_connection\u001b[0m\u001b[0;34m(\u001b[0m\u001b[0maddr\u001b[0m\u001b[0;34m,\u001b[0m \u001b[0msource_address\u001b[0m\u001b[0;34m=\u001b[0m\u001b[0msource\u001b[0m\u001b[0;34m,\u001b[0m \u001b[0mtimeout\u001b[0m\u001b[0;34m=\u001b[0m\u001b[0mself\u001b[0m\u001b[0;34m.\u001b[0m\u001b[0m_keepalive\u001b[0m\u001b[0;34m,\u001b[0m \u001b[0;34m**\u001b[0m\u001b[0mproxy\u001b[0m\u001b[0;34m)\u001b[0m\u001b[0;34m\u001b[0m\u001b[0;34m\u001b[0m\u001b[0m\n\u001b[1;32m   3521\u001b[0m         \u001b[0;32melse\u001b[0m\u001b[0;34m:\u001b[0m\u001b[0;34m\u001b[0m\u001b[0;34m\u001b[0m\u001b[0m\n\u001b[0;32m-> 3522\u001b[0;31m             \u001b[0;32mreturn\u001b[0m \u001b[0msocket\u001b[0m\u001b[0;34m.\u001b[0m\u001b[0mcreate_connection\u001b[0m\u001b[0;34m(\u001b[0m\u001b[0maddr\u001b[0m\u001b[0;34m,\u001b[0m \u001b[0msource_address\u001b[0m\u001b[0;34m=\u001b[0m\u001b[0msource\u001b[0m\u001b[0;34m,\u001b[0m \u001b[0mtimeout\u001b[0m\u001b[0;34m=\u001b[0m\u001b[0mself\u001b[0m\u001b[0;34m.\u001b[0m\u001b[0m_keepalive\u001b[0m\u001b[0;34m)\u001b[0m\u001b[0;34m\u001b[0m\u001b[0;34m\u001b[0m\u001b[0m\n\u001b[0m\u001b[1;32m   3523\u001b[0m \u001b[0;34m\u001b[0m\u001b[0m\n\u001b[1;32m   3524\u001b[0m \u001b[0;34m\u001b[0m\u001b[0m\n",
            "\u001b[0;32m/usr/lib/python3.6/socket.py\u001b[0m in \u001b[0;36mcreate_connection\u001b[0;34m(address, timeout, source_address)\u001b[0m\n\u001b[1;32m    722\u001b[0m \u001b[0;34m\u001b[0m\u001b[0m\n\u001b[1;32m    723\u001b[0m     \u001b[0;32mif\u001b[0m \u001b[0merr\u001b[0m \u001b[0;32mis\u001b[0m \u001b[0;32mnot\u001b[0m \u001b[0;32mNone\u001b[0m\u001b[0;34m:\u001b[0m\u001b[0;34m\u001b[0m\u001b[0;34m\u001b[0m\u001b[0m\n\u001b[0;32m--> 724\u001b[0;31m         \u001b[0;32mraise\u001b[0m \u001b[0merr\u001b[0m\u001b[0;34m\u001b[0m\u001b[0;34m\u001b[0m\u001b[0m\n\u001b[0m\u001b[1;32m    725\u001b[0m     \u001b[0;32melse\u001b[0m\u001b[0;34m:\u001b[0m\u001b[0;34m\u001b[0m\u001b[0;34m\u001b[0m\u001b[0m\n\u001b[1;32m    726\u001b[0m         \u001b[0;32mraise\u001b[0m \u001b[0merror\u001b[0m\u001b[0;34m(\u001b[0m\u001b[0;34m\"getaddrinfo returns an empty list\"\u001b[0m\u001b[0;34m)\u001b[0m\u001b[0;34m\u001b[0m\u001b[0;34m\u001b[0m\u001b[0m\n",
            "\u001b[0;32m/usr/lib/python3.6/socket.py\u001b[0m in \u001b[0;36mcreate_connection\u001b[0;34m(address, timeout, source_address)\u001b[0m\n\u001b[1;32m    711\u001b[0m             \u001b[0;32mif\u001b[0m \u001b[0msource_address\u001b[0m\u001b[0;34m:\u001b[0m\u001b[0;34m\u001b[0m\u001b[0;34m\u001b[0m\u001b[0m\n\u001b[1;32m    712\u001b[0m                 \u001b[0msock\u001b[0m\u001b[0;34m.\u001b[0m\u001b[0mbind\u001b[0m\u001b[0;34m(\u001b[0m\u001b[0msource_address\u001b[0m\u001b[0;34m)\u001b[0m\u001b[0;34m\u001b[0m\u001b[0;34m\u001b[0m\u001b[0m\n\u001b[0;32m--> 713\u001b[0;31m             \u001b[0msock\u001b[0m\u001b[0;34m.\u001b[0m\u001b[0mconnect\u001b[0m\u001b[0;34m(\u001b[0m\u001b[0msa\u001b[0m\u001b[0;34m)\u001b[0m\u001b[0;34m\u001b[0m\u001b[0;34m\u001b[0m\u001b[0m\n\u001b[0m\u001b[1;32m    714\u001b[0m             \u001b[0;31m# Break explicitly a reference cycle\u001b[0m\u001b[0;34m\u001b[0m\u001b[0;34m\u001b[0m\u001b[0;34m\u001b[0m\u001b[0m\n\u001b[1;32m    715\u001b[0m             \u001b[0merr\u001b[0m \u001b[0;34m=\u001b[0m \u001b[0;32mNone\u001b[0m\u001b[0;34m\u001b[0m\u001b[0;34m\u001b[0m\u001b[0m\n",
            "\u001b[0;31mOSError\u001b[0m: [Errno 99] Cannot assign requested address"
          ]
        }
      ]
    },
    {
      "cell_type": "code",
      "metadata": {
        "id": "mQIxBK1f_1f3",
        "colab_type": "code",
        "colab": {}
      },
      "source": [
        "# publishing a sine wave to an MQ\n",
        "# Get x values of the sine wave\n",
        "time1= np.arange(0, 10, 0.1); \n",
        "# Amplitude of the sine wave is sine of a variable like time\n",
        "amplitude=np.sin(time1)\n",
        "\n",
        "# while Connected != True:    #Wait for connection\n",
        "#     time.sleep(0.1)"
      ],
      "execution_count": 0,
      "outputs": []
    },
    {
      "cell_type": "code",
      "metadata": {
        "id": "8VLZ3Geo_5bt",
        "colab_type": "code",
        "colab": {}
      },
      "source": [
        "try:\n",
        "        \n",
        "    for i in range(100):\n",
        "        value = amplitude[i]\n",
        "        client.publish(\"python/sin6\",value)\n",
        "        time.sleep(1)\n",
        "\n",
        "except KeyboardInterrupt:\n",
        "    print('stop it')\n",
        "client.disconnect()\n",
        "client.loop_stop()"
      ],
      "execution_count": 0,
      "outputs": []
    },
    {
      "cell_type": "markdown",
      "metadata": {
        "id": "pWmVPEKDLQhT",
        "colab_type": "text"
      },
      "source": [
        "- You must now be able to see the values being published in the terminal, if you subscribe to the sin6 topic as shown above.\n",
        "- Also in the next section we will use a python code to subscribe to this topic and then push the data to the Database.\n",
        "***\n",
        "**Exercise**\n",
        "1. Instead of publishing data locally to the pi, try to publish the data to your local machine. Then using the terminal on the local machine you can subscribe to the topic to see if the data is actually being recieved or not.\n",
        "2. Permutation of the above problem: You can use your local machine as a publisher and subscribe to the topic using the pi.\n",
        "\n",
        "***\n",
        "### Setting up Internet Connectivity\n",
        "***\n",
        "Setting up internet on the gateway is important because otherwise it wont be able to push the sensor data to the elasticsearch db\n",
        "- This is only for a wireless connection\n",
        "- Navigate to wpa_supplicant:\n",
        "> `sudo nano /etc/wpa_supplicant/wpa_supplicant config`\n",
        "- Then at the bottom of the file we can add our wireless network \n",
        "> `network={` <br>\n",
        "`ssid = \"testing\" `<br>\n",
        "`psk = \"testing passwd\"` <br>\n",
        "`}`\n",
        "***\n",
        "### Providing a Static IP to the RPi\n",
        "***\n",
        "There are two ways of achieving this goal:\n",
        "1. Assigning a static IP to Rpi using a router\n",
        "2. Assigning a static IP to RPi with DHCPCD\n",
        "**Here we will only describe the later:**\n",
        "***\n",
        "Raspbian Jessie, or Jessie Lite – the current Raspbian operating systems at the moment – have a DHCP client daemon (DHCPCD) that can communicate with the DHCP servers from routers. The configuration file of a DHCP client daemon allows you to change the private IP address of a computer and set it up in the long term. The following instructions will assign a static IPv4 address with 32 bits (not to be confused with an IPv6 address, which has 128 bits available) to the Raspberry Pi.\n",
        "\n",
        "Before you begin with the assignment of a private IP address for Raspberry Pi, check whether DHCPCD is already activated using the following command:\n",
        "> `sudo service dhcpcd status`\n",
        "\n",
        "In case it’s not, activate DHCPCD as follows:\n",
        "> `sudo service dhcpcd start`<br>\n",
        "`sudo systemctl enable dhcpcd`\n",
        "\n",
        "Now make sure that the configuration of the file /etc/network/interfaces has the original status. For this, the ‘iface’ configuration needs to be set at ‘manual’ for the interfaces.\n",
        "\n",
        "For the editing of the activated DHCPCDs, start by opening the configuration file `/etc/dhcpcd.conf` and running the following command:\n",
        "> `sudo nano /etc/dhcpcd.conf`\n",
        "\n",
        "To assign an IP address to Raspberry Pi, use the command ‘static ip_address=’ followed by the desired IPv4 address and the suffix ‘/24’ (an abbreviation of the subnet mak 255.255.255.0). For example, if you want to link a computer with the IPv4 address 192.168.0.4, then you need to use the command ‘static ip_address=192.168.0.4/24’. It goes without saying that the address used here is not yet used anywhere else. As such, it also can’t be located in the address pool of a DHCP server.\n",
        "\n",
        "You still then need to specify the address of your gateway and domain name server (usually both are the router). Raspberry Pi turns to the gateway address if an IP address to which it wants to send something is outside of the subnet mask (in the example, this would mean outside of the range 192.168.0). In the following command, the IPv4 address 192.168.0.1 is used as an example as both the gateway and DNS server. The complete command looks like this in our example (where a network cable is used for the internet connection):\n",
        "> `interface eth0`<br>\n",
        "`static ip_address=192.168.0.4/24`<br>\n",
        "`static routers=192.168.0.1`<br>\n",
        "`static domain_name_servers=192.168.0.1`<br>\n",
        "\n",
        "The command lines above match the IPv4 addresses that you want to use for your Raspberry Pi, or where your router is assigned. Save the changes with ‘Ctrl + O’ and then press the enter key. Close the configuration file with ‘Ctrl + X’. Restart to adopt the newly assigned static IP address in the network:\n",
        "> `sudo reboot`\n",
        "\n",
        "Now use a ping command to check whether the Raspberry Pi is accessible in the network with its new IP address:\n",
        "> `Ping raspberrypi.local`\n",
        "\n",
        "If the connection of the IP address was successful, you’ll see that you can reach it under the new IP address with a ping."
      ]
    },
    {
      "cell_type": "markdown",
      "metadata": {
        "id": "AkDDpFC7LQhY",
        "colab_type": "text"
      },
      "source": [
        "## IIOT Middleware\n",
        "***\n",
        "In this section we will guide you through the installation of the services (Elasticsearch and kibana) on the server and also try to provide sufficient information about them so you can get started right away.\n",
        "***\n",
        "![IOTGW-OVERVIEW-HIGHLIGHT-MW.png](https://raw.githubusercontent.com/FaisalUllahKhan/IIOT/master/EM%20images/IOTGW-OVERVIEW-HIGHLIGHT-MW.png)\n",
        "***\n",
        "- **Let's setup the components (microservices) of the Middleware**\n",
        "1. Elasticsearch Database and Elasticsearch DB Client Driver using HTTP REST APIs.\n",
        "2. Kibana - to browse the data in the database (font end for elasticsearch db)\n",
        "3. MQTT Client to receive data from MQTT Queue and pass to Elasticsearch REST Client.\n",
        "\n",
        "### Setting up Elasticsearch\n",
        "***\n",
        "- Elasticsearch is a distributed, open source search and analytics engine for all types of data, including textual, numerical, geospatial, structured, and unstructured. Elasticsearch is built on Apache Lucene and was first released in 2010 by Elasticsearch N.V. (now known as Elastic). Known for its simple REST APIs, distributed nature, speed, and scalability, Elasticsearch is the central component of the Elastic Stack, a set of open source tools for data ingestion, enrichment, storage, analysis, and visualization. Commonly referred to as the ELK Stack (after Elasticsearch, Logstash, and Kibana), the Elastic Stack now includes a rich collection of lightweight shipping agents known as Beats for sending data to Elasticsearch.\n",
        "- To install elasticsearch on your Pc visit the following [link](https://www.elastic.co/guide/en/elasticsearch/reference/current/getting-started-install.html)\n",
        "- It should be noted that we want to install our elasticsearch db on our main server and all the IGW will connect/publish to this server.\n",
        "- However for educational purposes we can install it on a local machine. If we install it on a server and then we want to access it from some other local machine, we will have to make some configuration changes as follows:\n",
        "- By default http transport and internal elasticsearch transport only listens to localhost. If you want to access Elasticsearch from the host other than localhost then try adding following configurations in config/elasticsearch.yml. Note: here we are changing the config files in the server.\n",
        "> `transport.host: localhost` <br>\n",
        "`transport.tcp.port: 9300` <br>\n",
        "`http.port: 9200`<br>\n",
        "`network.host: 0.0.0.0 `<br>\n",
        "\n",
        "- You should be able to access Elasticsearch using the URL http:/ipaddress:9200.\n",
        "\n",
        "- How does Elasticsearch work?\n",
        "> Raw data flows into Elasticsearch from a variety of sources, including logs, system metrics, and web applications. Data ingestion is the process by which this raw data is parsed, normalized, and enriched before it is indexed in Elasticsearch. Once indexed in Elasticsearch, users can run complex queries against their data and use aggregations to retrieve complex summaries of their data. From Kibana, users can create powerful visualizations of their data, share dashboards, and manage the Elastic Stack.\n",
        "- What is an Elasticsearch index?\n",
        "> An Elasticsearch index is a collection of documents that are related to each other. Elasticsearch stores data as JSON documents. Each document correlates a set of keys (names of fields or properties) with their corresponding values (strings, numbers, Booleans, dates, arrays of values, geolocations, or other types of data).\n",
        "Elasticsearch uses a data structure called an inverted index, which is designed to allow very fast full-text searches. An inverted index lists every unique word that appears in any document and identifies all of the documents each word occurs in.\n",
        "During the indexing process, Elasticsearch stores documents and builds an inverted index to make the document data searchable in near real-time. Indexing is initiated with the index API, through which you can add or update a JSON document in a specific index.\n",
        "\n",
        "- After the installation is complete we need to start the elasticsearch service using the terminal\n",
        "- Type <font color = red>sudo /bin/systemctl enable elasticsearch.service </font> to enable elastic search\n",
        "- Type <font color = red>sudo systemctl start elasticsearch.service</font> to start elastic search service\n",
        "- Type <font color = red>sudo systemctl stop elasticsearch.service</font> to stop elastic search service\n",
        "\n",
        "### **Elasticsearch API**\n",
        "Now that we have installed Elasticsearch, let's understand how we can store data in the DB using the REST APIs provided by Elasticsearch.\n",
        "\n",
        "Please visit the link below to read more about REST and HTTP [click here](https://code.tutsplus.com/tutorials/a-beginners-guide-to-http-and-rest--net-16340)\n",
        "\n",
        "1. REST APIs use HTTP to query,insert, update and delete data from the DB.\n",
        "2. HTTP is the protocol that makes the World Wide Web possible.\n",
        "3. Everytime we visit a page in a Web Browser, the browser makes a HTTP GET request to fetch the page.\n",
        "4. Also, everytime we submit a form on a webpage, the form data is submitted using a POST request.\n",
        "The common HTTP verbs are -\n",
        "\n",
        "1. GET - Query data form DB\n",
        "2. POST - Insert data into DB\n",
        "In python, we can use the simple and easy to use Requests library to make HTTP requests.\n",
        "\n",
        "Install the library by running the cell below."
      ]
    },
    {
      "cell_type": "code",
      "metadata": {
        "id": "_LaU8KxoLQhd",
        "colab_type": "code",
        "outputId": "f27688b2-6f6b-45de-fec6-9f7da2b7280f",
        "colab": {
          "base_uri": "https://localhost:8080/",
          "height": 290
        }
      },
      "source": [
        "!pip install requests\n",
        "!pip install paho.mqtt"
      ],
      "execution_count": 4,
      "outputs": [
        {
          "output_type": "stream",
          "text": [
            "Requirement already satisfied: requests in /usr/local/lib/python3.6/dist-packages (2.21.0)\n",
            "Requirement already satisfied: urllib3<1.25,>=1.21.1 in /usr/local/lib/python3.6/dist-packages (from requests) (1.24.3)\n",
            "Requirement already satisfied: chardet<3.1.0,>=3.0.2 in /usr/local/lib/python3.6/dist-packages (from requests) (3.0.4)\n",
            "Requirement already satisfied: idna<2.9,>=2.5 in /usr/local/lib/python3.6/dist-packages (from requests) (2.8)\n",
            "Requirement already satisfied: certifi>=2017.4.17 in /usr/local/lib/python3.6/dist-packages (from requests) (2019.11.28)\n",
            "Collecting paho.mqtt\n",
            "\u001b[?25l  Downloading https://files.pythonhosted.org/packages/59/11/1dd5c70f0f27a88a3a05772cd95f6087ac479fac66d9c7752ee5e16ddbbc/paho-mqtt-1.5.0.tar.gz (99kB)\n",
            "\u001b[K     |████████████████████████████████| 102kB 1.2MB/s \n",
            "\u001b[?25hBuilding wheels for collected packages: paho.mqtt\n",
            "  Building wheel for paho.mqtt (setup.py) ... \u001b[?25l\u001b[?25hdone\n",
            "  Created wheel for paho.mqtt: filename=paho_mqtt-1.5.0-cp36-none-any.whl size=61416 sha256=d1e246585937ec2d40df5303aac1681d15038474e158bc9e4420f5ddaf018941\n",
            "  Stored in directory: /root/.cache/pip/wheels/02/94/6c/8474137cb7a5a3e001d70a22c8ff919caee69435376bccce79\n",
            "Successfully built paho.mqtt\n",
            "Installing collected packages: paho.mqtt\n",
            "Successfully installed paho.mqtt\n"
          ],
          "name": "stdout"
        }
      ]
    },
    {
      "cell_type": "markdown",
      "metadata": {
        "id": "wpoHLErrLQht",
        "colab_type": "text"
      },
      "source": [
        "HTTP get and post functionalities:\n",
        "- Now let us try to make some HTTP get requests using python by running the code below to illustrate the get and post functionalities of the request module."
      ]
    },
    {
      "cell_type": "code",
      "metadata": {
        "id": "V8Hs43wQLQhw",
        "colab_type": "code",
        "outputId": "230edc09-48bc-42e1-8159-36e9f93a1989",
        "colab": {
          "base_uri": "https://localhost:8080/",
          "height": 243
        }
      },
      "source": [
        "import requests\n",
        "response=requests.get(\"http://httpbin.org/get\", )\n",
        "print(response.getcode())\n",
        "# httpbin is an amazing web service for testing HTTP libraries. \n",
        "# It has several great endpoints that can test pretty much everything you need in a HTTP library."
      ],
      "execution_count": 20,
      "outputs": [
        {
          "output_type": "error",
          "ename": "AttributeError",
          "evalue": "ignored",
          "traceback": [
            "\u001b[0;31m---------------------------------------------------------------------------\u001b[0m",
            "\u001b[0;31mAttributeError\u001b[0m                            Traceback (most recent call last)",
            "\u001b[0;32m<ipython-input-20-8b4bdaa45436>\u001b[0m in \u001b[0;36m<module>\u001b[0;34m()\u001b[0m\n\u001b[1;32m      1\u001b[0m \u001b[0;32mimport\u001b[0m \u001b[0mrequests\u001b[0m\u001b[0;34m\u001b[0m\u001b[0;34m\u001b[0m\u001b[0m\n\u001b[1;32m      2\u001b[0m \u001b[0mresponse\u001b[0m\u001b[0;34m=\u001b[0m\u001b[0mrequests\u001b[0m\u001b[0;34m.\u001b[0m\u001b[0mget\u001b[0m\u001b[0;34m(\u001b[0m\u001b[0;34m\"http://httpbin.org/get\"\u001b[0m\u001b[0;34m,\u001b[0m \u001b[0;34m)\u001b[0m\u001b[0;34m\u001b[0m\u001b[0;34m\u001b[0m\u001b[0m\n\u001b[0;32m----> 3\u001b[0;31m \u001b[0mprint\u001b[0m\u001b[0;34m(\u001b[0m\u001b[0mresponse\u001b[0m\u001b[0;34m.\u001b[0m\u001b[0mgetcode\u001b[0m\u001b[0;34m(\u001b[0m\u001b[0;34m)\u001b[0m\u001b[0;34m)\u001b[0m\u001b[0;34m\u001b[0m\u001b[0;34m\u001b[0m\u001b[0m\n\u001b[0m\u001b[1;32m      4\u001b[0m \u001b[0;31m# httpbin is an amazing web service for testing HTTP libraries.\u001b[0m\u001b[0;34m\u001b[0m\u001b[0;34m\u001b[0m\u001b[0;34m\u001b[0m\u001b[0m\n\u001b[1;32m      5\u001b[0m \u001b[0;31m# It has several great endpoints that can test pretty much everything you need in a HTTP library.\u001b[0m\u001b[0;34m\u001b[0m\u001b[0;34m\u001b[0m\u001b[0;34m\u001b[0m\u001b[0m\n",
            "\u001b[0;31mAttributeError\u001b[0m: 'Response' object has no attribute 'getcode'"
          ]
        }
      ]
    },
    {
      "cell_type": "markdown",
      "metadata": {
        "id": "CDBP5bTZLQiB",
        "colab_type": "text"
      },
      "source": [
        "- Let's make another request this time with the get parameters <br>\n",
        "Run the cell below"
      ]
    },
    {
      "cell_type": "code",
      "metadata": {
        "id": "06-VM382LQiG",
        "colab_type": "code",
        "outputId": "9aef2587-7a64-4968-8108-a3bd7d27d9e2",
        "colab": {}
      },
      "source": [
        "response=requests.get(\"http://httpbin.org/get\", params={'user':1})\n",
        "print(response.text)"
      ],
      "execution_count": 0,
      "outputs": [
        {
          "output_type": "stream",
          "text": [
            "{\n",
            "  \"args\": {\n",
            "    \"user\": \"1\"\n",
            "  }, \n",
            "  \"headers\": {\n",
            "    \"Accept\": \"*/*\", \n",
            "    \"Accept-Encoding\": \"gzip, deflate\", \n",
            "    \"Host\": \"httpbin.org\", \n",
            "    \"User-Agent\": \"python-requests/2.22.0\", \n",
            "    \"X-Amzn-Trace-Id\": \"Root=1-5e3a50bd-3002e298d2fdc12836bb3348\"\n",
            "  }, \n",
            "  \"origin\": \"14.139.128.32\", \n",
            "  \"url\": \"http://httpbin.org/get?user=1\"\n",
            "}\n",
            "\n"
          ],
          "name": "stdout"
        }
      ]
    },
    {
      "cell_type": "markdown",
      "metadata": {
        "id": "BrivnuSLLQiQ",
        "colab_type": "text"
      },
      "source": [
        "**Let's now try HTTP POST with Python requests**\n",
        "1. HTTP POST requets can be used to send data over HTTP requests.\n",
        "2. The data sent over a POST request can be in JSON format\n",
        "3. Read more about JSON [here](https://en.wikipedia.org/wiki/JSON#Example)"
      ]
    },
    {
      "cell_type": "code",
      "metadata": {
        "id": "8Y5pI7fMLQiU",
        "colab_type": "code",
        "outputId": "e6301dde-47da-444e-e52b-f914e277670c",
        "colab": {}
      },
      "source": [
        "response=requests.post(\"http://httpbin.org/post\",json={\"user\":1})\n",
        "print(response.text)"
      ],
      "execution_count": 0,
      "outputs": [
        {
          "output_type": "stream",
          "text": [
            "{\n",
            "  \"args\": {}, \n",
            "  \"data\": \"{\\\"user\\\": 1}\", \n",
            "  \"files\": {}, \n",
            "  \"form\": {}, \n",
            "  \"headers\": {\n",
            "    \"Accept\": \"*/*\", \n",
            "    \"Accept-Encoding\": \"gzip, deflate\", \n",
            "    \"Content-Length\": \"11\", \n",
            "    \"Content-Type\": \"application/json\", \n",
            "    \"Host\": \"httpbin.org\", \n",
            "    \"User-Agent\": \"python-requests/2.22.0\", \n",
            "    \"X-Amzn-Trace-Id\": \"Root=1-5e3a50be-e42c86a64378615576589ad3\"\n",
            "  }, \n",
            "  \"json\": {\n",
            "    \"user\": 1\n",
            "  }, \n",
            "  \"origin\": \"14.139.128.32\", \n",
            "  \"url\": \"http://httpbin.org/post\"\n",
            "}\n",
            "\n"
          ],
          "name": "stdout"
        }
      ]
    },
    {
      "cell_type": "markdown",
      "metadata": {
        "id": "nqjhrBoGLQig",
        "colab_type": "text"
      },
      "source": [
        "### **Elasticsearch API (continued)**\n",
        "***\n",
        "![IOTGW-DETAILS-HIGHLIGHT-MWHTTPCLIENT.png](https://raw.githubusercontent.com/FaisalUllahKhan/IIOT/master/EM%20images/IOTGW-DETAILS-HIGHLIGHT-MWHTTPCLIENT.png)\n",
        "***\n",
        "Now that we have figured out how to make GET and POST requests using python, we will try to insert some data into the Elasticsearch DB. In the process we will understand about the HTTP REST DB Client which is highlighted in the diagram above.\n",
        "\n",
        "Elasticsearch stores data in indices which are similar to a how data is stored in Tables in a Relational DB like MySQL.\n",
        "\n",
        "Let's call the index as sin6 as we are storing data from a sine wave. We can name it anything sensible. Another sensible name could be SensorName where SensorName is the name of the sensor from which data is inserted into the DB - e.g LightSensor, MoistureSensor, TemperatureSensor, etc.\n",
        "\n",
        "To insert data into an index called INDEXNAME, we post the data to the URL - http://ipaddressOfServer:9200/INDEXNAME/_doc\n",
        "\n",
        "Run the following cell to insert a JSON document containing a sine wave into the Elasticsearch DB.\n",
        "\n",
        "Again this cell is to be run on the pi itself and we have to give the ip address of the server which is using the elasticsearch service.\n",
        "\n",
        "**Exercise:**\n",
        "1. Change the index in the code below and start fresh to prevent seeing any previous data that might have been uploaded to this topic.\n",
        "2. Disable the elasticsearch service on the server and then push data to the index using the pi, then start the service and see if you get any data."
      ]
    },
    {
      "cell_type": "code",
      "metadata": {
        "id": "BytmGP1zLQij",
        "colab_type": "code",
        "colab": {}
      },
      "source": [
        "import requests\n",
        "import paho.mqtt.client as mqtt\n",
        "import datetime\n",
        "import time\n",
        "import numpy as np\n",
        "import matplotlib.pyplot as plot"
      ],
      "execution_count": 0,
      "outputs": []
    },
    {
      "cell_type": "code",
      "metadata": {
        "id": "yniSCqEyJ_I3",
        "colab_type": "code",
        "colab": {}
      },
      "source": [
        "def on_connect(client, userdata, flags, rc):\n",
        "    print(\"Connected\")\n",
        "    #Subscribing to topic\n",
        "    client.subscribe(\"python/sin6/#\")"
      ],
      "execution_count": 0,
      "outputs": []
    },
    {
      "cell_type": "code",
      "metadata": {
        "id": "EtHwhq-sJ_DF",
        "colab_type": "code",
        "colab": {}
      },
      "source": [
        "def on_message(client, userdata, msg):\n",
        "    print(str(msg.payload))\n",
        "    hi = float(msg.payload)\n",
        "    document={\"raw_data\": hi,\"timestamp\":datetime.datetime.now().isoformat()}\n",
        "    ElasticsearchBaseURL=\"http://ipaddressServer:9200/\"\n",
        "    index=\"final6\"\n",
        "    url= ElasticsearchBaseURL + index + \"/_doc\"\n",
        "    print(\"Going to try http POST\")\n",
        "    print(document)\n",
        "    response=requests.post(url,json=document)"
      ],
      "execution_count": 0,
      "outputs": []
    },
    {
      "cell_type": "code",
      "metadata": {
        "id": "T1YFiMt6Lphw",
        "colab_type": "code",
        "colab": {}
      },
      "source": [
        "client = mqtt.Client()\n",
        "client.on_connect = on_connect\n",
        "client.on_message = on_message\n",
        "client.connect(\"localhost\", port=1883)          #connect to broker\n",
        "# client.username_pw_set(\"localhost\", password=password)    #set username and password\n",
        "\n",
        "client.loop_forever()"
      ],
      "execution_count": 0,
      "outputs": []
    },
    {
      "cell_type": "markdown",
      "metadata": {
        "id": "lEnNoWsgLQix",
        "colab_type": "text"
      },
      "source": [
        "- **Now let us review the document stored in the elasticsearch DB**\n",
        "\n",
        "The code given below will query the data from the elasticsearch db.\n",
        "\n",
        "**Exercise:**\n",
        "\n",
        "1. Change the index to some arbitary index and see the response that you will get."
      ]
    },
    {
      "cell_type": "code",
      "metadata": {
        "id": "jF2edUWbLQi2",
        "colab_type": "code",
        "colab": {}
      },
      "source": [
        "import requests\n",
        "import paho.mqtt.client as mqttClient\n",
        "import datetime\n",
        "import time\n",
        "\n",
        "index = 'final6'\n",
        "ElasticsearchBaseURL='http://ipaddressServer:9200/'\n",
        "response=requests.get(ElasticsearchBaseURL +index + \"/_search\")\n",
        "print(response.json())"
      ],
      "execution_count": 0,
      "outputs": []
    },
    {
      "cell_type": "markdown",
      "metadata": {
        "id": "Zdz_UkqcLQjC",
        "colab_type": "text"
      },
      "source": [
        "- **Summary**\n",
        "***\n",
        "1. Elasticsearch DB can be used to store and retireve JSON documents (in an INDEX) created from sensor data\n",
        "2. REST APIs like POST and GET are used to insert and query data from Elasticsearch DB into/from an INDEX\n",
        "3. HTTP DELETE method can be used to delete an INDEX\n",
        "4. To insert data we POST to the ElasticsearchBaseURL (default: http://localhost:9200) with INDEX name appended and _doc appended to the path i.e http://localhost:9200/INDEXNAME/_doc\n",
        "- here localhost will be replaced with the ipaddress of the server if we are publishing to the server from the pi.\n",
        "5. To query the data stored in an INDEX, we use the URL http://localhost:9200/INDEXNAME/_search\n",
        "- Again, we need to keep in mind that from where are we quering the data. If we have made our own pc as server then we need to use local host as shown above but if we want to access the server using a local machine then we need to give the ip address of the server.\n",
        "6. To delete and INDEX, we make an HTTP DELETE request to the URL http://localhost:9200/INDEXNAME\n",
        "***"
      ]
    },
    {
      "cell_type": "markdown",
      "metadata": {
        "id": "KrXUu66TLQjG",
        "colab_type": "text"
      },
      "source": [
        "### Setting up Kibana\n",
        "***\n",
        "**What is Kibana used for?**\n",
        "> Kibana is a data visualization and management tool for Elasticsearch that provides real-time histograms, line graphs, pie charts, and maps. Kibana also includes advanced applications such as Canvas, which allows users to create custom dynamic infographics based on their data, and Elastic Maps for visualizing geospatial data.\n",
        "Visit the link to install Kibana on your system https://www.elastic.co/guide/en/kibana/current/targz.html\n",
        "\n",
        "- *Running Kibana*\n",
        "***\n",
        "> Launch ./elasticsearch from elasticsearch-x.y.z/bin/ Launch ./kibana from kibana-x.y.z/bin\n",
        "\n",
        "- If we have installed elasticsearch on our local machine then you most probably will be installing kibana on your local machine as well.\n",
        "- However if you have set up a server and want to access kibana remotely then, set the parameter **server.host** in **kibana.yml** to a non-loopback address.\n",
        "\n",
        "- *Test Kibana*\n",
        "***\n",
        "> Visit Kibana @ http://localhost:5601\n",
        "\n",
        "The web page should open from the machine on which you have installed it.<br>\n",
        "If we want to see if kibana is working on some other machine say the server from our local machine then replace the localhost with the ip address of the server.\n",
        "\n",
        "- To start the kibana service type <font color = red>sudo systemctl start kibana.service</font>\n",
        "\n",
        "**Add index pattern in Kibana management**\n",
        "***\n",
        "- Visit the Management page by clicking on the Management tab in the Left Sidebar.\n",
        "- Add a new index pattern called final6\n",
        "\n",
        "**Discover in Kibana**\n",
        "- Click on the Discover tab on the left sidebar.\n",
        "- Select the index pattern we just created - final6\n",
        "- Select the time range in the top right bar to last one hour\n",
        "- Now we should be able to see the data we just stored in Elasticsearch DB.\n",
        "***\n",
        "**The output of the above code as visualized using kibana is as follows:**\n",
        "***\n",
        "![Kibana.png](https://raw.githubusercontent.com/FaisalUllahKhan/IIOT/master/EM%20images/Kibana.png)\n",
        "***\n",
        "### Kibana Aggregations\n",
        "\n",
        "***\n",
        "- One of the key topics for understanding and using kibana are the aggregations.\n",
        "- They provide the base of all visualisations\n",
        "- The aggregations are primarily of 2 types:\n",
        "> 1. Bucket aggregations\n",
        "> 2. Metric aggregations\n",
        "\n",
        "**Bucket aggregations:**\n",
        "- Each bucket aggregation may contain many or single or none documents/data points\n",
        "- Buckets may overlap hence one doc/data point may be present in 2 or more buckets\n",
        "- After Bucket aggregation has been done some docs/data points might not be present in any of them\n",
        "***\n",
        "![Bucket%20aggregations.png](https://raw.githubusercontent.com/FaisalUllahKhan/IIOT/master/EM%20images/Bucket%20aggregations.png)\n",
        "***\n",
        "**Metric aggregation**\n",
        "- These aggregations are responsible for calculating a value for each bucket (based on the docs in each bucket)\n",
        "***\n",
        "![Metric%20aggregations.png](https://raw.githubusercontent.com/FaisalUllahKhan/IIOT/master/EM%20images/Metric%20aggregations.png)\n",
        "***\n",
        "- Now if we wish to visualize the aggregated data as a pie chart say then:\n",
        "***\n",
        "![Pie%20chart.png](https://raw.githubusercontent.com/FaisalUllahKhan/IIOT/master/EM%20images/Pie%20chart.png)\n",
        "***\n",
        "- Each bucket represents one slice of the pie\n",
        "- The size of each slice will be determined by the value of the metric aggregation\n",
        "\n",
        "***\n",
        "**The different types of Bucket and Metric aggregations are:**\n",
        "***\n",
        "**Bucket aggregations**\n",
        "> Histogram <br>\n",
        "Date Histogram <br>\n",
        "Range<br>\n",
        "Date Range<br>\n",
        "IPV4 Range<br>\n",
        "Filters<br>\n",
        "Geohash<br>\n",
        "Terms<br>\n",
        "Significant terms<br>\n",
        "***\n",
        "**Metric aggregations**\n",
        "> Count<br>\n",
        "Sum <br>\n",
        "Average<br>\n",
        "Median<br>\n",
        "Min<br>\n",
        "Max<br>\n",
        "Unique count<br>\n",
        "Standard Deviation<br>\n",
        "Percentiles<br>\n",
        "Percentile ranks<br>\n",
        "\n",
        "**Exercise:**\n",
        "\n",
        "In kibana you may try to get differnt form of visualizations from the same data.\n",
        "Change the aggregations and also change the plot type, play around!"
      ]
    },
    {
      "cell_type": "markdown",
      "metadata": {
        "id": "x1o2sBZPLQjK",
        "colab_type": "text"
      },
      "source": [
        "# 2.Data analysis and Signal Processing\n",
        "\n",
        "### Contents:\n",
        "- [Overview](#Overview)\n",
        "- [A glance at raw data](#A-glance-at-raw-data)\n",
        "- [Parameter Estimation and Machine State Identification Algorithms](#Parameter-Estimation-and-Machine-State-Identification-Algorithms)\n",
        "    - [1: Line Loader](#1:-Line-Loader)\n",
        "    - [2: Screen printer](#2:-Screen-printer)\n"
      ]
    },
    {
      "cell_type": "markdown",
      "metadata": {
        "id": "ZCzC7ukuLQjO",
        "colab_type": "text"
      },
      "source": [
        "### Overview\n",
        "***\n",
        "To get a better idea of the data analytics that we have to run on the data from the sensors, we need to have a complete architecture of a factory. Only by knowing how the various machines are interacting with each other, it will be possible for us to develop algorithms for say state detections etc.\n",
        "In this section we will be using some sample data collected from a real PCB factory which is in .csv format. Thus these **csv files contain actual sensor data** that we will use to develop and verify our algorithms. Now our aim in this section will be to run alalytics on the data and from the different patterns that most like will arise, we should be able to make correct interpretations of the various parameters such as state detections, energy consumption in various machines and later anomaly detections as well.\n",
        "In this section we have shown the following:\n",
        "1. Vibration sensor data from the line loader is used for state detections ie we can determine when the machine is pushing a board and when it's idle. Also we can find about the average working time of the line loader when it's in operational state.\n",
        "2. Vibration sensor data from the Screen Printer machine is used to determine the 2 states ie Printing state and the cleaning state. Also we can determine the approximate working time of the machine in each of the states.\n",
        "\n",
        "- To do the data analysis using the alogrithms we will be using the pandas python library also the other libraries that you must be familiar with in order to get a thorough understanding of the algorithms are the matplotlib.pyplot, scipy, numpy and seaborn.\n",
        "***\n",
        "Here we will be using the example of PCB manufacturing factory whose architecture is as shown below:\n",
        "***\n",
        "![Layout.png](https://raw.githubusercontent.com/FaisalUllahKhan/IIOT/master/EM%20images/Layout.png)\n",
        "***\n",
        "The specific details are as follows:<br>\n",
        "1. Entry loader: vibration sensor.<br>\n",
        "2. Screen printer: proximity sensor (at exit), vibration sensor, current meter (single phase).<br>\n",
        "3. Pick-place machine #1: proximity sensor (at entry), vibration sensor, current meter (3 phase).<br>\n",
        "4. Pick-place machine #2: proximity sensor (at exit), vibration sensor, current meter (3 phase).<br>\n",
        "5. Reflow oven: proximity sensor (at entry and exit), vibration sensor, current meter (3 phase).<br>\n",
        "6. The first baking oven: temperature sensor, current meter (3 phase).<br>\n",
        "7. The second baking oven: temperature sensor, current meter (3 phase).<br>\n",
        "The ground floor of the factory was installed with current meters (6), vibration sensors (5), proximity sensors (5), and temperature sensors (2) as given above and at the locations as in Figure\n",
        "\n",
        "**Delays in machines**\n",
        "***\n",
        "The folling delays are the working time delays of the machines:\n",
        "line_loader.delay=1.8<br>\n",
        "screen_printer.printing_delay=8.1<br>\n",
        "screen_printer.cleaning_delay=12.0<br>\n",
        "screen_printer.num_pcbs_per_cleanin=2<br>\n",
        "\n",
        "***\n",
        "### Parameter Estimation and Machine State Identification Algorithms\n",
        "***\n",
        "Below are the algorithms explained in detail, for each machine, on how we achieved the above parameters:\n",
        "***\n",
        "### 1: Line Loader\n",
        "***\n",
        "![Use%20this.png](https://raw.githubusercontent.com/FaisalUllahKhan/IIOT/master/EM%20images/Use%20this.png)\n",
        "***\n",
        "**Line loader board detections**\n",
        "***\n",
        "![Line%20loader%20boards%20detected.png](https://raw.githubusercontent.com/FaisalUllahKhan/IIOT/master/EM%20images/Line%20loader%20boards%20detected.png)\n",
        "***\n",
        "For the loader, vibration data was used. The parameters that were calculated for the loader were the number of boards (throughput) and the loading (processing) time per board. As the loader and the screen printer were powered by the same line in series, energy estimations were not performed for this machine. The magnitude of the acceleration in the X and Z axes was used. \n",
        "From the raw vibration signals, the resultant along the X and Z axes was calculated. A centered rolling standard deviation with a window size of 100 samples (approx 1.3 seconds) was then applied to the signal. This window was selected as from the observation of raw data, the loading event was seen to last for approximately 2 seconds so the impulses of these events would be further enhanced. This processed signal can be seen in the figure above and is shown in orange. The green line in Figure (), shows the height threshold of 0.01 that is applied to detect peaks and those peaks were identified as loading events. The loading events are shown in the figure as blue stems. A time threshold constraint of 12 seconds was also applied to ensure that any spurious vibrations which exceed the height threshold immediately after any board detection were not counted as boards (false positives were removed). This time threshold of 12 seconds is identified on the basis that it takes 12 seconds for the screen printer to complete the processing of one board and hence the loader cannot push a board into the screen printer until that board is processed completely.\n",
        "The working times or the time taken for one loading event was calculated using the width of the peak of the processed signal measured at the threshold.\n",
        "*The algo developed for this is shown below:*"
      ]
    },
    {
      "cell_type": "code",
      "metadata": {
        "id": "HgnuSykCVuWG",
        "colab_type": "code",
        "colab": {}
      },
      "source": [
        "\n",
        "from pydrive.auth import GoogleAuth\n",
        "from pydrive.drive import GoogleDrive\n",
        "from google.colab import auth\n",
        "from oauth2client.client import GoogleCredentials\n",
        "# Authenticate and create the PyDrive client.\n",
        "auth.authenticate_user()\n",
        "gauth = GoogleAuth()\n",
        "gauth.credentials = GoogleCredentials.get_application_default()\n",
        "drive = GoogleDrive(gauth)"
      ],
      "execution_count": 0,
      "outputs": []
    },
    {
      "cell_type": "code",
      "metadata": {
        "id": "WUAeyIPgWcPi",
        "colab_type": "code",
        "outputId": "2288ea14-9ef0-4c81-eaae-662528ea92fb",
        "colab": {
          "base_uri": "https://localhost:8080/",
          "height": 35
        }
      },
      "source": [
        "link = 'https://drive.google.com/open?id=17vXu14H3FvuTZvkySLZU75MDP-lCqCw4'\n",
        "fluff, id = link.split('=')\n",
        "print (id)\n",
        " # Verify that you have everything after '='"
      ],
      "execution_count": 23,
      "outputs": [
        {
          "output_type": "stream",
          "text": [
            "17vXu14H3FvuTZvkySLZU75MDP-lCqCw4\n"
          ],
          "name": "stdout"
        }
      ]
    },
    {
      "cell_type": "code",
      "metadata": {
        "colab_type": "code",
        "id": "cEUc5G7OcFGx",
        "cellView": "code",
        "colab": {}
      },
      "source": [
        "#@title Default title text\n",
        "import pandas as pd\n",
        "import matplotlib.pyplot as plt\n",
        "import scipy.signal\n",
        "import numpy as np\n",
        "import seaborn as sns\n",
        "import sys\n",
        "\n",
        "downloaded = drive.CreateFile({'id':id}) \n",
        "downloaded.GetContentFile('6thHour.csv')\n",
        "plt.rcParams[\"figure.figsize\"]=[15,5]\n",
        "df = pd.read_csv('6thHour.csv', usecols=['timestamp', 'data.ax', 'data.az'])\n"
      ],
      "execution_count": 0,
      "outputs": []
    },
    {
      "cell_type": "code",
      "metadata": {
        "id": "M86mJmWschuw",
        "colab_type": "code",
        "colab": {}
      },
      "source": [
        "df.sort_values(by='timestamp', inplace = True)\n",
        "df.reset_index(inplace=True)\n",
        "df.dropna(axis=0, inplace=True)\n",
        "# it will drop all rows with NaN values\n",
        "df.timestamp=pd.to_datetime(df.timestamp)"
      ],
      "execution_count": 0,
      "outputs": []
    },
    {
      "cell_type": "code",
      "metadata": {
        "id": "hRfAqzPBchpT",
        "colab_type": "code",
        "outputId": "fcb92b8b-6f76-4b6e-cb08-9746c84683e9",
        "colab": {
          "base_uri": "https://localhost:8080/",
          "height": 126
        }
      },
      "source": [
        "df['acc'] = ( df[\"data.ax\"]**2 + df[\"data.az\"]**2 ) ** 0.5\n",
        "# creating a new column for accelarometer\n",
        "acc = df[['timestamp', 'acc']]\n",
        "# creating a new DF 'acc' having only 2 coloms of df\n",
        "acc.set_index('timestamp')\n",
        "test_ld=acc\n",
        "test_ld['acc_raw']=test_ld['acc']"
      ],
      "execution_count": 26,
      "outputs": [
        {
          "output_type": "stream",
          "text": [
            "/usr/local/lib/python3.6/dist-packages/ipykernel_launcher.py:7: SettingWithCopyWarning: \n",
            "A value is trying to be set on a copy of a slice from a DataFrame.\n",
            "Try using .loc[row_indexer,col_indexer] = value instead\n",
            "\n",
            "See the caveats in the documentation: http://pandas.pydata.org/pandas-docs/stable/user_guide/indexing.html#returning-a-view-versus-a-copy\n",
            "  import sys\n"
          ],
          "name": "stderr"
        }
      ]
    },
    {
      "cell_type": "code",
      "metadata": {
        "id": "46r-kJ4vchit",
        "colab_type": "code",
        "outputId": "9b2b24ac-ec2e-4d25-83ea-08b50644a62c",
        "colab": {
          "base_uri": "https://localhost:8080/",
          "height": 126
        }
      },
      "source": [
        "test_ld['acc'] = pd.Series.to_frame(test_ld.acc.rolling(100, center = True).std())\n",
        "timethresh=12\n",
        "test_ld.insert(2,'state',0)"
      ],
      "execution_count": 27,
      "outputs": [
        {
          "output_type": "stream",
          "text": [
            "/usr/local/lib/python3.6/dist-packages/ipykernel_launcher.py:1: SettingWithCopyWarning: \n",
            "A value is trying to be set on a copy of a slice from a DataFrame.\n",
            "Try using .loc[row_indexer,col_indexer] = value instead\n",
            "\n",
            "See the caveats in the documentation: http://pandas.pydata.org/pandas-docs/stable/user_guide/indexing.html#returning-a-view-versus-a-copy\n",
            "  \"\"\"Entry point for launching an IPython kernel.\n"
          ],
          "name": "stderr"
        }
      ]
    },
    {
      "cell_type": "code",
      "metadata": {
        "id": "kkP-7a8hchaG",
        "colab_type": "code",
        "colab": {}
      },
      "source": [
        "%matplotlib inline"
      ],
      "execution_count": 0,
      "outputs": []
    },
    {
      "cell_type": "code",
      "metadata": {
        "id": "FJ9KhaAMchPT",
        "colab_type": "code",
        "outputId": "b11027bd-3ced-4d2f-f5be-0e7052e2513b",
        "colab": {
          "base_uri": "https://localhost:8080/",
          "height": 283
        }
      },
      "source": [
        "plt.plot(test_ld['timestamp'], test_ld['acc'])"
      ],
      "execution_count": 39,
      "outputs": [
        {
          "output_type": "execute_result",
          "data": {
            "text/plain": [
              "[<matplotlib.lines.Line2D at 0x7f4adad10630>]"
            ]
          },
          "metadata": {
            "tags": []
          },
          "execution_count": 39
        },
        {
          "output_type": "display_data",
          "data": {
            "image/png": "[encoded data removed]",
            "text/plain": [
              "<Figure size 432x288 with 1 Axes>"
            ]
          },
          "metadata": {
            "tags": []
          }
        }
      ]
    },
    {
      "cell_type": "code",
      "metadata": {
        "id": "IzpdwvO9chH3",
        "colab_type": "code",
        "colab": {}
      },
      "source": [
        "board=scipy.signal.find_peaks(test_ld.acc, height=(0.01), distance=timethresh*72, width=1)"
      ],
      "execution_count": 0,
      "outputs": []
    },
    {
      "cell_type": "code",
      "metadata": {
        "id": "kE6SgUa3cg-m",
        "colab_type": "code",
        "colab": {}
      },
      "source": [
        "differ=np.diff(board[0])\n",
        "differ=differ.tolist()\n",
        "for x in board[0]:\n",
        "    test_ld.at[x, 'state'] = 1"
      ],
      "execution_count": 0,
      "outputs": []
    },
    {
      "cell_type": "code",
      "metadata": {
        "id": "ZK4hsKrTcg0R",
        "colab_type": "code",
        "colab": {}
      },
      "source": [
        "ld_boards=test_ld[test_ld['state']==1]"
      ],
      "execution_count": 0,
      "outputs": []
    },
    {
      "cell_type": "code",
      "metadata": {
        "id": "PzbdxioXcgki",
        "colab_type": "code",
        "outputId": "0efc031f-0f76-42d8-9d45-2683d397ffa1",
        "colab": {
          "base_uri": "https://localhost:8080/",
          "height": 35
        }
      },
      "source": [
        "print(ld_boards.shape[0])"
      ],
      "execution_count": 43,
      "outputs": [
        {
          "output_type": "stream",
          "text": [
            "34\n"
          ],
          "name": "stdout"
        }
      ]
    },
    {
      "cell_type": "code",
      "metadata": {
        "id": "C4-lRJV0cgL9",
        "colab_type": "code",
        "outputId": "16e5fc15-a558-4e6a-b29f-a9c67e3a6666",
        "colab": {
          "base_uri": "https://localhost:8080/",
          "height": 370
        }
      },
      "source": [
        "fig, ax1 = plt.subplots()\n",
        "# https://matplotlib.org/3.1.0/gallery/subplots_axes_and_figures/subplots_demo.html\n",
        "\n",
        "# ax1.plot(test_ld['timestamp'], test_ld['acc_raw'], 'green')\n",
        "ax1.plot(test_ld['timestamp'], np.ones(test_ld.shape[0])*0.01, 'green')\n",
        "ax1.plot(test_ld['timestamp'], test_ld['acc'], 'orange')\n",
        "\n",
        "# ax1.plot(test_ld['timestamp'], np.ones(test_ld.shape[0]*0.01), 'green')\n",
        "# ax1.xaxis.set_major_locator(mdates.DateFormatter('%H:%M'))\n",
        "\n",
        "ax1.set_xlabel('Time')\n",
        "\n",
        "ax2 = ax1.twinx()\n",
        "# creates another y plot keeping the x axis the same as before\n",
        "ax2.stem(ld_boards['timestamp'], ld_boards['state'], 'b:')\n",
        "\n",
        "\n",
        "plt.title('Board Detections')"
      ],
      "execution_count": 44,
      "outputs": [
        {
          "output_type": "stream",
          "text": [
            "/usr/local/lib/python3.6/dist-packages/ipykernel_launcher.py:15: UserWarning: In Matplotlib 3.3 individual lines on a stem plot will be added as a LineCollection instead of individual lines. This significantly improves the performance of a stem plot. To remove this warning and switch to the new behaviour, set the \"use_line_collection\" keyword argument to True.\n",
            "  from ipykernel import kernelapp as app\n"
          ],
          "name": "stderr"
        },
        {
          "output_type": "execute_result",
          "data": {
            "text/plain": [
              "Text(0.5, 1.0, 'Board Detections')"
            ]
          },
          "metadata": {
            "tags": []
          },
          "execution_count": 44
        },
        {
          "output_type": "display_data",
          "data": {
            "image/png": "[encoded data removed]",
            "text/plain": [
              "<Figure size 432x288 with 2 Axes>"
            ]
          },
          "metadata": {
            "tags": []
          }
        }
      ]
    },
    {
      "cell_type": "code",
      "metadata": {
        "id": "eba82MapdMI-",
        "colab_type": "code",
        "colab": {}
      },
      "source": [
        "loading_delays_rawdf=pd.DataFrame({\"sample_number\":board[0], \"working_time\":board[1]['widths']/72})\n",
        "LD_events=pd.DataFrame({\"timestamp\":test_ld.iloc[loading_delays_rawdf.sample_number].timestamp, \"event\":1, \"working_time\":(loading_delays_rawdf.working_time).tolist()})\n",
        "LD_events.index=LD_events.timestamp\n",
        "LD_events.drop('timestamp', axis=1, inplace=True)\n",
        "LD_events['energy']=float('nan')"
      ],
      "execution_count": 0,
      "outputs": []
    },
    {
      "cell_type": "code",
      "metadata": {
        "id": "9-hEKW2GdMFx",
        "colab_type": "code",
        "outputId": "9f903bcb-d1fa-493c-eff9-f5c6ab963cbd",
        "colab": {
          "base_uri": "https://localhost:8080/",
          "height": 314
        }
      },
      "source": [
        "sns.distplot(LD_events.working_time)\n",
        "plt.title('Loader Loading Times Histogram')"
      ],
      "execution_count": 46,
      "outputs": [
        {
          "output_type": "execute_result",
          "data": {
            "text/plain": [
              "Text(0.5, 1.0, 'Loader Loading Times Histogram')"
            ]
          },
          "metadata": {
            "tags": []
          },
          "execution_count": 46
        },
        {
          "output_type": "display_data",
          "data": {
            "image/png": "[encoded data removed]",
            "text/plain": [
              "<Figure size 432x288 with 1 Axes>"
            ]
          },
          "metadata": {
            "tags": []
          }
        }
      ]
    },
    {
      "cell_type": "code",
      "metadata": {
        "id": "KNlXgW2xiUD7",
        "colab_type": "code",
        "outputId": "1d492de0-15ae-4e52-9033-f4e5bfbf240a",
        "colab": {
          "base_uri": "https://localhost:8080/",
          "height": 35
        }
      },
      "source": [
        "print('LD loading time mode: ', LD_events.working_time.mode().mean())"
      ],
      "execution_count": 47,
      "outputs": [
        {
          "output_type": "stream",
          "text": [
            "LD loading time mode:  1.7293700240069396\n"
          ],
          "name": "stdout"
        }
      ]
    },
    {
      "cell_type": "markdown",
      "metadata": {
        "id": "kIMLaq2IoxoQ",
        "colab_type": "text"
      },
      "source": [
        "**Exercise:**\n",
        "\n",
        "1. In the above script changing values of timethresh, height, width, distance etc will result in wrong detection of states ie false positives and false negatives. \n",
        "Taking the paramerters given in the above algo as the reference values see how the boards detected change with the changing parameters. Also see how the working time is affected as a result of changing parameters\n",
        "2. Suggest ways to improve the algorithm."
      ]
    },
    {
      "cell_type": "markdown",
      "metadata": {
        "id": "SC9N3yK8LQjd",
        "colab_type": "text"
      },
      "source": [
        "### 2: Screen printer\n",
        "***\n",
        "![Screen%20Printer%20event%20detection.png](https://raw.githubusercontent.com/FaisalUllahKhan/IIOT/master/EM%20images/Screen%20Printer%20event%20detection.png)\n",
        "***\n",
        "![SP%20printing%20time.png](https://raw.githubusercontent.com/FaisalUllahKhan/IIOT/master/EM%20images/SP%20printing%20time.png)\n",
        "***\n",
        "![SP2.png](https://raw.githubusercontent.com/FaisalUllahKhan/IIOT/master/EM%20images/SP2.png)\n",
        "***\n",
        "It is found that the screen printer undergoes two events:\n",
        "1. Printing: When the screen printer applies solder paste on the PCBs and\n",
        "2. Cleaning: When the screen printer vacuum cleans the stencil\n",
        "\n",
        "Hence the parameters that were calculated for the screen printer were the number of boards (throughput), printing time, cleaning time, energy consumed during printing, energy consumed during cleaning and number of boards printed per cleaning event.\n",
        "For printing events, from the raw current data (orange waveform), a centered rolling sum with a window size of 6 samples (6 seconds, since current data is sampled every second) was applied to the signal. This processed signal can be seen in the figure above and is shown in blue. The window size of 6 seconds was selected because on observation from the raw data, it was found that a printing event in most cases took approximately 8 seconds. Taking a larger window close to 8, would increase the error as the rolling sum function starts rising earlier due to the inclusion of more data points. A window of 6 seconds included the right number of samples to get a large enough peak compared to the data points when the screen printer was idle, on which a height threshold between 11 and 15 was applied. A distance threshold of 12 seconds was applied to the find peaks function to ensure that any other peaks in the vicinity of the spikes in current during board processing were not incorrectly identified as boards. As can be seen in figure (), the blue signal includes at least 2 peaks in the processing part, but with the distance threshold and find peaks function, only the largest peak was identified as a printing event.\n",
        "For cleaning events, a centered rolling sum with a window size of 12 samples (12 seconds) was applied to the signal. This window was selected, as on observation from the raw data, a cleaning event took approximately 12 seconds.\n",
        "The working times were calculated using the widths of the peaks at the chosen threshold. The threshold was picked strategically, so that it captures the entire printing and cleaning time. As can be seen in the figures, the threshold on the processed signal captures all the spikes in current data, which was then attributed to a printing or cleaning event.\n",
        "***\n",
        "*Algo developed is shown below*"
      ]
    },
    {
      "cell_type": "code",
      "metadata": {
        "id": "uoMFu95oRk3_",
        "colab_type": "code",
        "colab": {}
      },
      "source": [
        "# Code to read csv file into Colaboratory:\n",
        "!pip install -U -q PyDrive\n",
        "from pydrive.auth import GoogleAuth\n",
        "from pydrive.drive import GoogleDrive\n",
        "from google.colab import auth\n",
        "from oauth2client.client import GoogleCredentials\n",
        "# Authenticate and create the PyDrive client.\n",
        "auth.authenticate_user()\n",
        "gauth = GoogleAuth()\n",
        "gauth.credentials = GoogleCredentials.get_application_default()\n",
        "drive = GoogleDrive(gauth)"
      ],
      "execution_count": 0,
      "outputs": []
    },
    {
      "cell_type": "code",
      "metadata": {
        "id": "WSCiiOUNSRVP",
        "colab_type": "code",
        "outputId": "a348f822-1c4f-46e6-cff9-43d59cc8e5e2",
        "colab": {
          "base_uri": "https://localhost:8080/",
          "height": 35
        }
      },
      "source": [
        "link = 'https://drive.google.com/open?id=1hOPPRv7KL20g-iHlyiX42QyRVeGoj9-I'\n",
        "fluff, id = link.split('=')\n",
        "print (id)\n",
        " # Verify that you have everything after '='"
      ],
      "execution_count": 49,
      "outputs": [
        {
          "output_type": "stream",
          "text": [
            "1hOPPRv7KL20g-iHlyiX42QyRVeGoj9-I\n"
          ],
          "name": "stdout"
        }
      ]
    },
    {
      "cell_type": "code",
      "metadata": {
        "id": "cPQFxquTsl9K",
        "colab_type": "code",
        "outputId": "0f811dcb-3ced-491a-d575-6fb6d78c789e",
        "colab": {
          "base_uri": "https://localhost:8080/",
          "height": 301
        }
      },
      "source": [
        "import pandas as pd\n",
        "import matplotlib.pyplot as plt\n",
        "import scipy.signal\n",
        "import numpy as np\n",
        "import seaborn as sns\n",
        "# plt.rcParams[\"figure.figsize\"]=[15,5]\n",
        "import io\n",
        "\n",
        "downloaded = drive.CreateFile({'id':id}) \n",
        "downloaded.GetContentFile('screenprinter.csv')  \n",
        "raw_sp= pd.read_csv('screenprinter.csv', usecols =['timestamp', 'data.A1'])\n",
        "raw_sp.dropna(axis=0, inplace=True)\n",
        "raw_sp.sort_values(by=['timestamp'])\n",
        "raw_sp.reset_index(inplace=True)\n",
        "raw_sp['timestamp'] =  pd.to_datetime(raw_sp['timestamp'])\n",
        "raw_sp\n",
        "\n",
        "test_sp=raw_sp\n",
        "test_sp[100:120]\n",
        "\n",
        "test_sp=test_sp[['data.A1','timestamp']]\n",
        "test_sp\n",
        "\n",
        "test_sp['sum']=pd.Series.to_frame(test_sp['data.A1'].rolling(6, center=True).sum())\n",
        "test_sp['sum_mean']=test_sp['sum'].rolling(12,center=True).mean()\n",
        "test_sp['sum_forcleaning']=pd.Series.to_frame(test_sp['data.A1'].rolling(12, center=True).sum())\n",
        "test_sp.reset_index(inplace=True) ##\n",
        "test_sp[90:110]\n",
        "\n",
        "%matplotlib \n",
        "\n",
        "test_sp['threash'] = 12.5\n",
        "test_sp['threash_up'] = 15.5\n",
        "\n",
        "test_sp['idle']=2\n",
        "sptimethresh=20\n",
        "printing_delays_raw, dict1 =scipy.signal.find_peaks(test_sp['sum'],height=(12.5, 15.5),distance=sptimethresh, width=1)\n",
        "\n",
        "printing_delays_raw\n",
        "# these will give us just the printing events\n",
        "dict1\n",
        "\n",
        "new_df = pd.DataFrame(test_sp.timestamp[printing_delays_raw])\n",
        "new_df['StateSum'] = test_sp['sum']\n",
        "new_df['WorkingTime'] = dict1['widths']\n",
        "new_df = new_df.reset_index()\n",
        "del new_df['index']\n",
        "\n",
        "plt.plot(test_sp['timestamp'], test_sp['threash_up'])\n",
        "plt.plot(test_sp['timestamp'], test_sp['threash'], 'orange')\n",
        "plt.plot(test_sp['timestamp'], test_sp['sum'], 'blue')\n",
        "plt.plot(new_df['timestamp'], new_df['StateSum'], 'x')\n",
        "\n",
        "sptimethresh=20\n",
        "printing_cleaning_raw, dict2 =scipy.signal.find_peaks(test_sp['sum'],height=(17),distance=sptimethresh, width=1)\n",
        "printing_cleaning_raw\n",
        "\n",
        "new_df2 = pd.DataFrame(test_sp.timestamp[printing_cleaning_raw])\n",
        "new_df2['StateSum'] = test_sp['sum_forcleaning']\n",
        "new_df2['WorkingTime'] = dict2['widths']\n",
        "new_df2 = new_df2.reset_index()\n",
        "del new_df2['index']\n",
        "\n",
        "plt.plot(test_sp['timestamp'], test_sp['sum_forcleaning'], 'blue')\n",
        "plt.plot(new_df2['timestamp'], new_df2['StateSum'], 'o')"
      ],
      "execution_count": 50,
      "outputs": [
        {
          "output_type": "stream",
          "text": [
            "Using matplotlib backend: agg\n"
          ],
          "name": "stdout"
        },
        {
          "output_type": "execute_result",
          "data": {
            "text/plain": [
              "[<matplotlib.lines.Line2D at 0x7f4ad913b7b8>]"
            ]
          },
          "metadata": {
            "tags": []
          },
          "execution_count": 50
        },
        {
          "output_type": "display_data",
          "data": {
            "image/png": "[encoded data removed]",
            "text/plain": [
              "<Figure size 432x288 with 1 Axes>"
            ]
          },
          "metadata": {
            "tags": []
          }
        }
      ]
    },
    {
      "cell_type": "markdown",
      "metadata": {
        "id": "QNrbeelck7OY",
        "colab_type": "text"
      },
      "source": [
        "**Exercise:**\n",
        "\n",
        "1. In the above script changing values of sptimethresh, height, width etc will result in wrong detection of states ie false positives and false negatives. \n",
        "Taking the paramerters given in the above algo as the reference values see how the boards detected change with the changing parameters.\n",
        "2. Suggest ways to improve the algorithm"
      ]
    }
  ]
}